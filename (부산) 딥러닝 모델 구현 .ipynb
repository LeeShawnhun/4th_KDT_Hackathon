{
 "cells": [
  {
   "cell_type": "markdown",
   "id": "8dec3000",
   "metadata": {
    "id": "8dec3000"
   },
   "source": [
    "# 패키지 다운로드"
   ]
  },
  {
   "cell_type": "code",
   "execution_count": null,
   "id": "S6lqE0Amo5Ap",
   "metadata": {
    "id": "S6lqE0Amo5Ap"
   },
   "outputs": [],
   "source": [
    "# train_original = pd.read_excel('/content/drive/MyDrive//07. 1차프로젝트/02. Train_Test Data/train.xlsx')\n",
    "# print(train_original.shape)\n",
    "# train_original.head()"
   ]
  },
  {
   "cell_type": "code",
   "execution_count": 2,
   "id": "afd3ab5e",
   "metadata": {
    "id": "afd3ab5e"
   },
   "outputs": [],
   "source": [
    "import tensorflow as tf\n",
    "import matplotlib as mpl\n",
    "import matplotlib.pyplot as plt\n",
    "import numpy as np\n",
    "import os\n",
    "import pandas as pd\n",
    "import warnings\n",
    "\n",
    "from statsmodels.stats.outliers_influence import variance_inflation_factor\n",
    "\n",
    "np.set_printoptions(suppress=True)\n",
    "\n",
    "\n",
    "# mpl.rcParams['figure.figsize'] = (8, 6)\n",
    "# mpl.rcParams['axes.grid'] = False\n",
    "\n",
    "warnings.filterwarnings(\"ignore\")"
   ]
  },
  {
   "cell_type": "markdown",
   "id": "282f733d",
   "metadata": {
    "id": "282f733d"
   },
   "source": [
    "# 데이터 셋 확인"
   ]
  },
  {
   "cell_type": "code",
   "execution_count": null,
   "id": "192cdeef",
   "metadata": {
    "id": "192cdeef"
   },
   "outputs": [],
   "source": [
    "# '선박번호', '날짜_시간', '날짜', '시간', '위도', '경도', '대지속력', '실침로', '선수미선','점사이_거리', '시간_차이', '정박지', '평균선회반경(m)', '유속', '유향', '우행', '풍향', '풍속', '최대파고', '유의파고', '평균파고', 'answer', '유행'"
   ]
  },
  {
   "cell_type": "code",
   "execution_count": 50,
   "id": "c0a04a52",
   "metadata": {
    "id": "c0a04a52"
   },
   "outputs": [],
   "source": [
    "# 데이터 불러오기\n",
    "busan = pd.read_csv(\"data/busan_train_full3.csv\", encoding=\"cp949\")"
   ]
  },
  {
   "cell_type": "markdown",
   "id": "c3fb333b",
   "metadata": {
    "id": "c3fb333b"
   },
   "source": [
    "## 유향 전처리 다시하기"
   ]
  },
  {
   "cell_type": "code",
   "execution_count": null,
   "id": "1c9905ea",
   "metadata": {
    "id": "1c9905ea"
   },
   "outputs": [],
   "source": [
    "# '선박번호', '날짜_시간', '날짜', '시간', '위도', '경도', '대지속력', '실침로', '선수미선', '점사이_거리', '시간_차이', '정박지', '평균선회반경(m)', '유속', '유향', '우행', '풍향', '풍속', '최대파고', '유의파고', '평균파고', 'answer', '유행', 'Combined'"
   ]
  },
  {
   "cell_type": "code",
   "execution_count": 51,
   "id": "1f02b478",
   "metadata": {
    "colab": {
     "base_uri": "https://localhost:8080/",
     "height": 423
    },
    "executionInfo": {
     "elapsed": 315,
     "status": "ok",
     "timestamp": 1685937532843,
     "user": {
      "displayName": "최소현",
      "userId": "10730094540081288395"
     },
     "user_tz": -540
    },
    "id": "1f02b478",
    "outputId": "be665ea3-48e2-4e77-f9c1-f35f66bc8348"
   },
   "outputs": [
    {
     "data": {
      "text/html": [
       "<div>\n",
       "<style scoped>\n",
       "    .dataframe tbody tr th:only-of-type {\n",
       "        vertical-align: middle;\n",
       "    }\n",
       "\n",
       "    .dataframe tbody tr th {\n",
       "        vertical-align: top;\n",
       "    }\n",
       "\n",
       "    .dataframe thead th {\n",
       "        text-align: right;\n",
       "    }\n",
       "</style>\n",
       "<table border=\"1\" class=\"dataframe\">\n",
       "  <thead>\n",
       "    <tr style=\"text-align: right;\">\n",
       "      <th></th>\n",
       "      <th>선박번호</th>\n",
       "      <th>날짜_시간</th>\n",
       "      <th>정박지</th>\n",
       "      <th>평균선회반경(m)</th>\n",
       "      <th>유속</th>\n",
       "      <th>유행</th>\n",
       "      <th>풍향</th>\n",
       "      <th>풍속</th>\n",
       "      <th>answer</th>\n",
       "    </tr>\n",
       "  </thead>\n",
       "  <tbody>\n",
       "    <tr>\n",
       "      <th>0</th>\n",
       "      <td>1</td>\n",
       "      <td>2021-01-14 22:47</td>\n",
       "      <td>3</td>\n",
       "      <td>322.0</td>\n",
       "      <td>21.3</td>\n",
       "      <td>98.0</td>\n",
       "      <td>358.0</td>\n",
       "      <td>1.2</td>\n",
       "      <td>0</td>\n",
       "    </tr>\n",
       "    <tr>\n",
       "      <th>1</th>\n",
       "      <td>1</td>\n",
       "      <td>2021-01-14 22:50</td>\n",
       "      <td>3</td>\n",
       "      <td>322.0</td>\n",
       "      <td>21.1</td>\n",
       "      <td>95.0</td>\n",
       "      <td>185.0</td>\n",
       "      <td>0.2</td>\n",
       "      <td>0</td>\n",
       "    </tr>\n",
       "    <tr>\n",
       "      <th>2</th>\n",
       "      <td>1</td>\n",
       "      <td>2021-01-14 22:56</td>\n",
       "      <td>3</td>\n",
       "      <td>322.0</td>\n",
       "      <td>19.6</td>\n",
       "      <td>92.0</td>\n",
       "      <td>284.0</td>\n",
       "      <td>0.1</td>\n",
       "      <td>0</td>\n",
       "    </tr>\n",
       "    <tr>\n",
       "      <th>3</th>\n",
       "      <td>1</td>\n",
       "      <td>2021-01-14 23:02</td>\n",
       "      <td>3</td>\n",
       "      <td>322.0</td>\n",
       "      <td>23.4</td>\n",
       "      <td>100.0</td>\n",
       "      <td>311.0</td>\n",
       "      <td>0.9</td>\n",
       "      <td>0</td>\n",
       "    </tr>\n",
       "    <tr>\n",
       "      <th>4</th>\n",
       "      <td>1</td>\n",
       "      <td>2021-01-14 23:11</td>\n",
       "      <td>3</td>\n",
       "      <td>322.0</td>\n",
       "      <td>20.7</td>\n",
       "      <td>90.0</td>\n",
       "      <td>264.0</td>\n",
       "      <td>1.7</td>\n",
       "      <td>0</td>\n",
       "    </tr>\n",
       "    <tr>\n",
       "      <th>...</th>\n",
       "      <td>...</td>\n",
       "      <td>...</td>\n",
       "      <td>...</td>\n",
       "      <td>...</td>\n",
       "      <td>...</td>\n",
       "      <td>...</td>\n",
       "      <td>...</td>\n",
       "      <td>...</td>\n",
       "      <td>...</td>\n",
       "    </tr>\n",
       "    <tr>\n",
       "      <th>251015</th>\n",
       "      <td>247</td>\n",
       "      <td>2022-04-10 17:36</td>\n",
       "      <td>3</td>\n",
       "      <td>322.0</td>\n",
       "      <td>19.1</td>\n",
       "      <td>71.0</td>\n",
       "      <td>198.0</td>\n",
       "      <td>10.1</td>\n",
       "      <td>0</td>\n",
       "    </tr>\n",
       "    <tr>\n",
       "      <th>251016</th>\n",
       "      <td>247</td>\n",
       "      <td>2022-04-10 17:39</td>\n",
       "      <td>3</td>\n",
       "      <td>322.0</td>\n",
       "      <td>16.9</td>\n",
       "      <td>61.0</td>\n",
       "      <td>196.0</td>\n",
       "      <td>10.6</td>\n",
       "      <td>0</td>\n",
       "    </tr>\n",
       "    <tr>\n",
       "      <th>251017</th>\n",
       "      <td>247</td>\n",
       "      <td>2022-04-10 17:45</td>\n",
       "      <td>3</td>\n",
       "      <td>322.0</td>\n",
       "      <td>18.2</td>\n",
       "      <td>73.0</td>\n",
       "      <td>195.0</td>\n",
       "      <td>9.2</td>\n",
       "      <td>0</td>\n",
       "    </tr>\n",
       "    <tr>\n",
       "      <th>251018</th>\n",
       "      <td>247</td>\n",
       "      <td>2022-04-10 17:48</td>\n",
       "      <td>3</td>\n",
       "      <td>322.0</td>\n",
       "      <td>15.9</td>\n",
       "      <td>73.0</td>\n",
       "      <td>196.0</td>\n",
       "      <td>9.4</td>\n",
       "      <td>0</td>\n",
       "    </tr>\n",
       "    <tr>\n",
       "      <th>251019</th>\n",
       "      <td>247</td>\n",
       "      <td>2022-04-10 17:51</td>\n",
       "      <td>3</td>\n",
       "      <td>322.0</td>\n",
       "      <td>19.5</td>\n",
       "      <td>78.0</td>\n",
       "      <td>199.0</td>\n",
       "      <td>8.3</td>\n",
       "      <td>0</td>\n",
       "    </tr>\n",
       "  </tbody>\n",
       "</table>\n",
       "<p>240485 rows × 9 columns</p>\n",
       "</div>"
      ],
      "text/plain": [
       "        선박번호             날짜_시간  정박지  평균선회반경(m)    유속     유행     풍향    풍속  \\\n",
       "0          1  2021-01-14 22:47    3      322.0  21.3   98.0  358.0   1.2   \n",
       "1          1  2021-01-14 22:50    3      322.0  21.1   95.0  185.0   0.2   \n",
       "2          1  2021-01-14 22:56    3      322.0  19.6   92.0  284.0   0.1   \n",
       "3          1  2021-01-14 23:02    3      322.0  23.4  100.0  311.0   0.9   \n",
       "4          1  2021-01-14 23:11    3      322.0  20.7   90.0  264.0   1.7   \n",
       "...      ...               ...  ...        ...   ...    ...    ...   ...   \n",
       "251015   247  2022-04-10 17:36    3      322.0  19.1   71.0  198.0  10.1   \n",
       "251016   247  2022-04-10 17:39    3      322.0  16.9   61.0  196.0  10.6   \n",
       "251017   247  2022-04-10 17:45    3      322.0  18.2   73.0  195.0   9.2   \n",
       "251018   247  2022-04-10 17:48    3      322.0  15.9   73.0  196.0   9.4   \n",
       "251019   247  2022-04-10 17:51    3      322.0  19.5   78.0  199.0   8.3   \n",
       "\n",
       "        answer  \n",
       "0            0  \n",
       "1            0  \n",
       "2            0  \n",
       "3            0  \n",
       "4            0  \n",
       "...        ...  \n",
       "251015       0  \n",
       "251016       0  \n",
       "251017       0  \n",
       "251018       0  \n",
       "251019       0  \n",
       "\n",
       "[240485 rows x 9 columns]"
      ]
     },
     "execution_count": 51,
     "metadata": {},
     "output_type": "execute_result"
    }
   ],
   "source": [
    "busan_test = busan[['선박번호', '날짜_시간', '정박지','평균선회반경(m)','유속', '유행', '풍향', '풍속', 'answer']]\n",
    "busan_test = busan_test.dropna()\n",
    "busan_test"
   ]
  },
  {
   "cell_type": "code",
   "execution_count": 10,
   "id": "8b8637e4",
   "metadata": {
    "id": "8b8637e4"
   },
   "outputs": [],
   "source": [
    "# 결측치 없는 데이터 정제 / datetime 변환\n",
    "busan_test_full = busan_test.dropna().reset_index(drop = True)\n",
    "busan_test_full[\"날짜_시간\"] = pd.to_datetime(busan_test_full[\"날짜_시간\"])"
   ]
  },
  {
   "cell_type": "code",
   "execution_count": 52,
   "id": "170e9c47",
   "metadata": {
    "colab": {
     "base_uri": "https://localhost:8080/",
     "height": 658
    },
    "executionInfo": {
     "elapsed": 3373,
     "status": "ok",
     "timestamp": 1685937548339,
     "user": {
      "displayName": "최소현",
      "userId": "10730094540081288395"
     },
     "user_tz": -540
    },
    "id": "170e9c47",
    "outputId": "95b56cf1-75e9-416d-91df-5a949866256c"
   },
   "outputs": [
    {
     "data": {
      "text/html": [
       "<div>\n",
       "<style scoped>\n",
       "    .dataframe tbody tr th:only-of-type {\n",
       "        vertical-align: middle;\n",
       "    }\n",
       "\n",
       "    .dataframe tbody tr th {\n",
       "        vertical-align: top;\n",
       "    }\n",
       "\n",
       "    .dataframe thead th {\n",
       "        text-align: right;\n",
       "    }\n",
       "</style>\n",
       "<table border=\"1\" class=\"dataframe\">\n",
       "  <thead>\n",
       "    <tr style=\"text-align: right;\">\n",
       "      <th></th>\n",
       "      <th>날짜_시간</th>\n",
       "      <th>선박번호</th>\n",
       "      <th>정박지</th>\n",
       "      <th>평균선회반경(m)</th>\n",
       "      <th>유속</th>\n",
       "      <th>유행</th>\n",
       "      <th>풍향</th>\n",
       "      <th>풍속</th>\n",
       "      <th>answer</th>\n",
       "    </tr>\n",
       "  </thead>\n",
       "  <tbody>\n",
       "    <tr>\n",
       "      <th>0</th>\n",
       "      <td>2021-01-14 22:47:00</td>\n",
       "      <td>1.0</td>\n",
       "      <td>3.0</td>\n",
       "      <td>322.0</td>\n",
       "      <td>21.300000</td>\n",
       "      <td>98.000000</td>\n",
       "      <td>358.000000</td>\n",
       "      <td>1.200000</td>\n",
       "      <td>0.0</td>\n",
       "    </tr>\n",
       "    <tr>\n",
       "      <th>1</th>\n",
       "      <td>2021-01-14 22:48:00</td>\n",
       "      <td>1.0</td>\n",
       "      <td>3.0</td>\n",
       "      <td>322.0</td>\n",
       "      <td>21.233333</td>\n",
       "      <td>97.000000</td>\n",
       "      <td>300.333333</td>\n",
       "      <td>0.866667</td>\n",
       "      <td>0.0</td>\n",
       "    </tr>\n",
       "    <tr>\n",
       "      <th>2</th>\n",
       "      <td>2021-01-14 22:49:00</td>\n",
       "      <td>1.0</td>\n",
       "      <td>3.0</td>\n",
       "      <td>322.0</td>\n",
       "      <td>21.166667</td>\n",
       "      <td>96.000000</td>\n",
       "      <td>242.666667</td>\n",
       "      <td>0.533333</td>\n",
       "      <td>0.0</td>\n",
       "    </tr>\n",
       "    <tr>\n",
       "      <th>3</th>\n",
       "      <td>2021-01-14 22:50:00</td>\n",
       "      <td>1.0</td>\n",
       "      <td>3.0</td>\n",
       "      <td>322.0</td>\n",
       "      <td>21.100000</td>\n",
       "      <td>95.000000</td>\n",
       "      <td>185.000000</td>\n",
       "      <td>0.200000</td>\n",
       "      <td>0.0</td>\n",
       "    </tr>\n",
       "    <tr>\n",
       "      <th>4</th>\n",
       "      <td>2021-01-14 22:51:00</td>\n",
       "      <td>1.0</td>\n",
       "      <td>3.0</td>\n",
       "      <td>322.0</td>\n",
       "      <td>20.850000</td>\n",
       "      <td>94.500000</td>\n",
       "      <td>201.500000</td>\n",
       "      <td>0.183333</td>\n",
       "      <td>0.0</td>\n",
       "    </tr>\n",
       "    <tr>\n",
       "      <th>...</th>\n",
       "      <td>...</td>\n",
       "      <td>...</td>\n",
       "      <td>...</td>\n",
       "      <td>...</td>\n",
       "      <td>...</td>\n",
       "      <td>...</td>\n",
       "      <td>...</td>\n",
       "      <td>...</td>\n",
       "      <td>...</td>\n",
       "    </tr>\n",
       "    <tr>\n",
       "      <th>337702</th>\n",
       "      <td>2022-04-10 17:47:00</td>\n",
       "      <td>247.0</td>\n",
       "      <td>3.0</td>\n",
       "      <td>322.0</td>\n",
       "      <td>16.666667</td>\n",
       "      <td>73.000000</td>\n",
       "      <td>195.666667</td>\n",
       "      <td>9.333333</td>\n",
       "      <td>0.0</td>\n",
       "    </tr>\n",
       "    <tr>\n",
       "      <th>337703</th>\n",
       "      <td>2022-04-10 17:48:00</td>\n",
       "      <td>247.0</td>\n",
       "      <td>3.0</td>\n",
       "      <td>322.0</td>\n",
       "      <td>15.900000</td>\n",
       "      <td>73.000000</td>\n",
       "      <td>196.000000</td>\n",
       "      <td>9.400000</td>\n",
       "      <td>0.0</td>\n",
       "    </tr>\n",
       "    <tr>\n",
       "      <th>337704</th>\n",
       "      <td>2022-04-10 17:49:00</td>\n",
       "      <td>247.0</td>\n",
       "      <td>3.0</td>\n",
       "      <td>322.0</td>\n",
       "      <td>17.100000</td>\n",
       "      <td>74.666667</td>\n",
       "      <td>197.000000</td>\n",
       "      <td>9.033333</td>\n",
       "      <td>0.0</td>\n",
       "    </tr>\n",
       "    <tr>\n",
       "      <th>337705</th>\n",
       "      <td>2022-04-10 17:50:00</td>\n",
       "      <td>247.0</td>\n",
       "      <td>3.0</td>\n",
       "      <td>322.0</td>\n",
       "      <td>18.300000</td>\n",
       "      <td>76.333333</td>\n",
       "      <td>198.000000</td>\n",
       "      <td>8.666667</td>\n",
       "      <td>0.0</td>\n",
       "    </tr>\n",
       "    <tr>\n",
       "      <th>337706</th>\n",
       "      <td>2022-04-10 17:51:00</td>\n",
       "      <td>247.0</td>\n",
       "      <td>3.0</td>\n",
       "      <td>322.0</td>\n",
       "      <td>19.500000</td>\n",
       "      <td>78.000000</td>\n",
       "      <td>199.000000</td>\n",
       "      <td>8.300000</td>\n",
       "      <td>0.0</td>\n",
       "    </tr>\n",
       "  </tbody>\n",
       "</table>\n",
       "<p>337707 rows × 9 columns</p>\n",
       "</div>"
      ],
      "text/plain": [
       "                     날짜_시간   선박번호  정박지  평균선회반경(m)         유속         유행  \\\n",
       "0      2021-01-14 22:47:00    1.0  3.0      322.0  21.300000  98.000000   \n",
       "1      2021-01-14 22:48:00    1.0  3.0      322.0  21.233333  97.000000   \n",
       "2      2021-01-14 22:49:00    1.0  3.0      322.0  21.166667  96.000000   \n",
       "3      2021-01-14 22:50:00    1.0  3.0      322.0  21.100000  95.000000   \n",
       "4      2021-01-14 22:51:00    1.0  3.0      322.0  20.850000  94.500000   \n",
       "...                    ...    ...  ...        ...        ...        ...   \n",
       "337702 2022-04-10 17:47:00  247.0  3.0      322.0  16.666667  73.000000   \n",
       "337703 2022-04-10 17:48:00  247.0  3.0      322.0  15.900000  73.000000   \n",
       "337704 2022-04-10 17:49:00  247.0  3.0      322.0  17.100000  74.666667   \n",
       "337705 2022-04-10 17:50:00  247.0  3.0      322.0  18.300000  76.333333   \n",
       "337706 2022-04-10 17:51:00  247.0  3.0      322.0  19.500000  78.000000   \n",
       "\n",
       "                풍향        풍속  answer  \n",
       "0       358.000000  1.200000     0.0  \n",
       "1       300.333333  0.866667     0.0  \n",
       "2       242.666667  0.533333     0.0  \n",
       "3       185.000000  0.200000     0.0  \n",
       "4       201.500000  0.183333     0.0  \n",
       "...            ...       ...     ...  \n",
       "337702  195.666667  9.333333     0.0  \n",
       "337703  196.000000  9.400000     0.0  \n",
       "337704  197.000000  9.033333     0.0  \n",
       "337705  198.000000  8.666667     0.0  \n",
       "337706  199.000000  8.300000     0.0  \n",
       "\n",
       "[337707 rows x 9 columns]"
      ]
     },
     "execution_count": 52,
     "metadata": {},
     "output_type": "execute_result"
    }
   ],
   "source": [
    "# 보간법\n",
    "df = pd.DataFrame()\n",
    "\n",
    "for i in busan_test_full[\"선박번호\"].unique():\n",
    "    temp = busan_test_full[busan_test_full[\"선박번호\"] == i]\n",
    "\n",
    "    temp = temp.set_index('날짜_시간')\n",
    "    temp = temp.resample('1T').mean().interpolate()\n",
    "    df = pd.concat([df, temp], axis = 0)\n",
    "    \n",
    "# 보간법으로 늘어난 answer의 값을 0, 1로 조정\n",
    "df.loc[df['answer'] != 1, 'answer'] = 0\n",
    "df= df.reset_index()\n",
    "df"
   ]
  },
  {
   "cell_type": "markdown",
   "id": "74f6d1d8",
   "metadata": {
    "id": "74f6d1d8"
   },
   "source": [
    "### 보간 & 더미 데이터"
   ]
  },
  {
   "cell_type": "code",
   "execution_count": 53,
   "id": "620a180f",
   "metadata": {
    "id": "620a180f"
   },
   "outputs": [],
   "source": [
    "dummy = pd.get_dummies(df['정박지'])\n",
    "\n",
    "dummy_busan = pd.concat([dummy, df[['선박번호', '유속', '유행', '풍향', '풍속', 'answer']]], axis = 1)"
   ]
  },
  {
   "cell_type": "markdown",
   "id": "64ccd42f",
   "metadata": {
    "id": "64ccd42f"
   },
   "source": [
    "### 학습데이터 준비"
   ]
  },
  {
   "cell_type": "code",
   "execution_count": 54,
   "id": "ca56e8cb",
   "metadata": {
    "colab": {
     "base_uri": "https://localhost:8080/",
     "height": 467
    },
    "executionInfo": {
     "elapsed": 544,
     "status": "ok",
     "timestamp": 1685937641062,
     "user": {
      "displayName": "최소현",
      "userId": "10730094540081288395"
     },
     "user_tz": -540
    },
    "id": "ca56e8cb",
    "outputId": "cbefb5bc-77fe-416c-de02-0fb69b8728ca"
   },
   "outputs": [
    {
     "data": {
      "text/html": [
       "<div>\n",
       "<style scoped>\n",
       "    .dataframe tbody tr th:only-of-type {\n",
       "        vertical-align: middle;\n",
       "    }\n",
       "\n",
       "    .dataframe tbody tr th {\n",
       "        vertical-align: top;\n",
       "    }\n",
       "\n",
       "    .dataframe thead th {\n",
       "        text-align: right;\n",
       "    }\n",
       "</style>\n",
       "<table border=\"1\" class=\"dataframe\">\n",
       "  <thead>\n",
       "    <tr style=\"text-align: right;\">\n",
       "      <th></th>\n",
       "      <th>선박번호</th>\n",
       "      <th>유속</th>\n",
       "      <th>유행</th>\n",
       "      <th>풍향</th>\n",
       "      <th>풍속</th>\n",
       "      <th>1.0</th>\n",
       "      <th>2.0</th>\n",
       "      <th>3.0</th>\n",
       "      <th>4.0</th>\n",
       "      <th>5.0</th>\n",
       "      <th>answer</th>\n",
       "    </tr>\n",
       "  </thead>\n",
       "  <tbody>\n",
       "    <tr>\n",
       "      <th>0</th>\n",
       "      <td>1.0</td>\n",
       "      <td>21.300000</td>\n",
       "      <td>98.000000</td>\n",
       "      <td>358.000000</td>\n",
       "      <td>1.200000</td>\n",
       "      <td>0</td>\n",
       "      <td>0</td>\n",
       "      <td>1</td>\n",
       "      <td>0</td>\n",
       "      <td>0</td>\n",
       "      <td>0.0</td>\n",
       "    </tr>\n",
       "    <tr>\n",
       "      <th>1</th>\n",
       "      <td>1.0</td>\n",
       "      <td>21.233333</td>\n",
       "      <td>97.000000</td>\n",
       "      <td>300.333333</td>\n",
       "      <td>0.866667</td>\n",
       "      <td>0</td>\n",
       "      <td>0</td>\n",
       "      <td>1</td>\n",
       "      <td>0</td>\n",
       "      <td>0</td>\n",
       "      <td>0.0</td>\n",
       "    </tr>\n",
       "    <tr>\n",
       "      <th>2</th>\n",
       "      <td>1.0</td>\n",
       "      <td>21.166667</td>\n",
       "      <td>96.000000</td>\n",
       "      <td>242.666667</td>\n",
       "      <td>0.533333</td>\n",
       "      <td>0</td>\n",
       "      <td>0</td>\n",
       "      <td>1</td>\n",
       "      <td>0</td>\n",
       "      <td>0</td>\n",
       "      <td>0.0</td>\n",
       "    </tr>\n",
       "    <tr>\n",
       "      <th>3</th>\n",
       "      <td>1.0</td>\n",
       "      <td>21.100000</td>\n",
       "      <td>95.000000</td>\n",
       "      <td>185.000000</td>\n",
       "      <td>0.200000</td>\n",
       "      <td>0</td>\n",
       "      <td>0</td>\n",
       "      <td>1</td>\n",
       "      <td>0</td>\n",
       "      <td>0</td>\n",
       "      <td>0.0</td>\n",
       "    </tr>\n",
       "    <tr>\n",
       "      <th>4</th>\n",
       "      <td>1.0</td>\n",
       "      <td>20.850000</td>\n",
       "      <td>94.500000</td>\n",
       "      <td>201.500000</td>\n",
       "      <td>0.183333</td>\n",
       "      <td>0</td>\n",
       "      <td>0</td>\n",
       "      <td>1</td>\n",
       "      <td>0</td>\n",
       "      <td>0</td>\n",
       "      <td>0.0</td>\n",
       "    </tr>\n",
       "    <tr>\n",
       "      <th>...</th>\n",
       "      <td>...</td>\n",
       "      <td>...</td>\n",
       "      <td>...</td>\n",
       "      <td>...</td>\n",
       "      <td>...</td>\n",
       "      <td>...</td>\n",
       "      <td>...</td>\n",
       "      <td>...</td>\n",
       "      <td>...</td>\n",
       "      <td>...</td>\n",
       "      <td>...</td>\n",
       "    </tr>\n",
       "    <tr>\n",
       "      <th>337702</th>\n",
       "      <td>247.0</td>\n",
       "      <td>16.666667</td>\n",
       "      <td>73.000000</td>\n",
       "      <td>195.666667</td>\n",
       "      <td>9.333333</td>\n",
       "      <td>0</td>\n",
       "      <td>0</td>\n",
       "      <td>1</td>\n",
       "      <td>0</td>\n",
       "      <td>0</td>\n",
       "      <td>0.0</td>\n",
       "    </tr>\n",
       "    <tr>\n",
       "      <th>337703</th>\n",
       "      <td>247.0</td>\n",
       "      <td>15.900000</td>\n",
       "      <td>73.000000</td>\n",
       "      <td>196.000000</td>\n",
       "      <td>9.400000</td>\n",
       "      <td>0</td>\n",
       "      <td>0</td>\n",
       "      <td>1</td>\n",
       "      <td>0</td>\n",
       "      <td>0</td>\n",
       "      <td>0.0</td>\n",
       "    </tr>\n",
       "    <tr>\n",
       "      <th>337704</th>\n",
       "      <td>247.0</td>\n",
       "      <td>17.100000</td>\n",
       "      <td>74.666667</td>\n",
       "      <td>197.000000</td>\n",
       "      <td>9.033333</td>\n",
       "      <td>0</td>\n",
       "      <td>0</td>\n",
       "      <td>1</td>\n",
       "      <td>0</td>\n",
       "      <td>0</td>\n",
       "      <td>0.0</td>\n",
       "    </tr>\n",
       "    <tr>\n",
       "      <th>337705</th>\n",
       "      <td>247.0</td>\n",
       "      <td>18.300000</td>\n",
       "      <td>76.333333</td>\n",
       "      <td>198.000000</td>\n",
       "      <td>8.666667</td>\n",
       "      <td>0</td>\n",
       "      <td>0</td>\n",
       "      <td>1</td>\n",
       "      <td>0</td>\n",
       "      <td>0</td>\n",
       "      <td>0.0</td>\n",
       "    </tr>\n",
       "    <tr>\n",
       "      <th>337706</th>\n",
       "      <td>247.0</td>\n",
       "      <td>19.500000</td>\n",
       "      <td>78.000000</td>\n",
       "      <td>199.000000</td>\n",
       "      <td>8.300000</td>\n",
       "      <td>0</td>\n",
       "      <td>0</td>\n",
       "      <td>1</td>\n",
       "      <td>0</td>\n",
       "      <td>0</td>\n",
       "      <td>0.0</td>\n",
       "    </tr>\n",
       "  </tbody>\n",
       "</table>\n",
       "<p>337707 rows × 11 columns</p>\n",
       "</div>"
      ],
      "text/plain": [
       "         선박번호         유속         유행          풍향        풍속  1.0  2.0  3.0  4.0  \\\n",
       "0         1.0  21.300000  98.000000  358.000000  1.200000    0    0    1    0   \n",
       "1         1.0  21.233333  97.000000  300.333333  0.866667    0    0    1    0   \n",
       "2         1.0  21.166667  96.000000  242.666667  0.533333    0    0    1    0   \n",
       "3         1.0  21.100000  95.000000  185.000000  0.200000    0    0    1    0   \n",
       "4         1.0  20.850000  94.500000  201.500000  0.183333    0    0    1    0   \n",
       "...       ...        ...        ...         ...       ...  ...  ...  ...  ...   \n",
       "337702  247.0  16.666667  73.000000  195.666667  9.333333    0    0    1    0   \n",
       "337703  247.0  15.900000  73.000000  196.000000  9.400000    0    0    1    0   \n",
       "337704  247.0  17.100000  74.666667  197.000000  9.033333    0    0    1    0   \n",
       "337705  247.0  18.300000  76.333333  198.000000  8.666667    0    0    1    0   \n",
       "337706  247.0  19.500000  78.000000  199.000000  8.300000    0    0    1    0   \n",
       "\n",
       "        5.0  answer  \n",
       "0         0     0.0  \n",
       "1         0     0.0  \n",
       "2         0     0.0  \n",
       "3         0     0.0  \n",
       "4         0     0.0  \n",
       "...     ...     ...  \n",
       "337702    0     0.0  \n",
       "337703    0     0.0  \n",
       "337704    0     0.0  \n",
       "337705    0     0.0  \n",
       "337706    0     0.0  \n",
       "\n",
       "[337707 rows x 11 columns]"
      ]
     },
     "execution_count": 54,
     "metadata": {},
     "output_type": "execute_result"
    }
   ],
   "source": [
    "busan_df = dummy_busan[['선박번호', \"유속\",\"유행\",\"풍향\",\"풍속\",1,2,3,4,5,\"answer\"]]\n",
    "busan_df"
   ]
  },
  {
   "cell_type": "code",
   "execution_count": 41,
   "id": "c620f072",
   "metadata": {},
   "outputs": [],
   "source": [
    "busan = busan_df.values\n",
    "dataset = busan[:, 1:5]\n",
    "data_mean = dataset.mean(axis=0)\n",
    "data_std = dataset.std(axis=0)\n",
    "dataset = (dataset-data_mean)/data_std\n",
    "    \n",
    "remain = busan[:, (0,5,6,7,8,9)]\n",
    "    \n",
    "dataset = np.concatenate((np.reshape(remain[:, 0], (-1,1)), dataset), axis=1)\n",
    "dataset = np.concatenate((dataset,remain[:, 1:]), axis=1)\n",
    "\n",
    "study_length = 40\n",
    "expect_period=  30\n",
    "\n",
    "data = []\n",
    "label = []\n",
    "boat_num=np.unique(dataset [:,0])\n",
    "np.random.shuffle(boat_num)\n",
    "\n",
    "for j in boat_num:\n",
    "    temp=dataset[dataset[:,0]==j]\n",
    "    for i in range(len(temp) - study_length - expect_period):\n",
    "        data.append(dataset[i:i+study_length, 1:-1])\n",
    "        label.append(dataset[i+study_length+expect_period,-1])"
   ]
  },
  {
   "cell_type": "markdown",
   "id": "91d42ec2",
   "metadata": {
    "id": "91d42ec2"
   },
   "source": [
    "# 데이터 표준화 및 분리\n",
    "- 전체 데이터를 표준화"
   ]
  },
  {
   "cell_type": "code",
   "execution_count": 55,
   "id": "34116a2f",
   "metadata": {
    "id": "34116a2f"
   },
   "outputs": [
    {
     "name": "stdout",
     "output_type": "stream",
     "text": [
      "(257845, 40, 8)\n",
      "(64462, 40, 8)\n",
      "(257845, 1)\n",
      "(64462, 1)\n"
     ]
    }
   ],
   "source": [
    "# study_length = 40\n",
    "# expect_period=  30\n",
    "\n",
    "# data = []\n",
    "# label = []\n",
    "\n",
    "# for j in busan_df[\"선박번호\"].unique():\n",
    "#     temp = busan_df[busan_df[\"선박번호\"] == j].values\n",
    "#     # 표준화\n",
    "#     dataset = temp[:, 1:5]\n",
    "#     data_mean = dataset.mean(axis=0)\n",
    "#     data_std = dataset.std(axis=0)\n",
    "#     dataset = (dataset-data_mean)/data_std\n",
    "    \n",
    "#     remain = temp[:,(5,6,7,8,9)]\n",
    "    \n",
    "#     dataset = np.concatenate((np.reshape(remain[:,0],(-1,1)),dataset), axis=1)\n",
    "#     dataset = np.concatenate((dataset,remain[:,1:]), axis=1)\n",
    "#     # 분리\n",
    "#     for i in range(len(temp) - study_length - expect_period):\n",
    "#         data.append(dataset[i:i+study_length,0:-1])\n",
    "#         label.append(dataset[i+study_length+expect_period,-1])\n",
    "        \n",
    "        \n",
    "# 학습 - 평가 데이터 분리\n",
    "train_test_split = int(len(label)*0.8)\n",
    "data_split = np.split(data, [train_test_split], axis=0)\n",
    "label_split = np.split(label, [train_test_split], axis=0)\n",
    "\n",
    "data_train = data_split[0]\n",
    "data_test = data_split[1]\n",
    "\n",
    "label_train = label_split[0]\n",
    "label_test = label_split[1]\n",
    "\n",
    "\n",
    "# 결과 확인\n",
    "label_train = np.reshape(label_train,(-1,1))\n",
    "label_test = np.reshape(label_test,(-1,1))\n",
    "print(data_train.shape)  # (262245, 15, 9)\n",
    "print(data_test.shape)  # (65562, 15, 9)\n",
    "\n",
    "print(label_train.shape)  #(262245, )\n",
    "print(label_test.shape)  #(65562, )"
   ]
  },
  {
   "cell_type": "code",
   "execution_count": 56,
   "id": "8a2ece39",
   "metadata": {},
   "outputs": [],
   "source": [
    "BUFFER_SIZE = 100\n",
    "BATCH_SIZE = 88\n",
    "# 모델 학습 시 사용할 데이터의 크기\n",
    "# 데이터셋 크기의 10% ~ 20%\n",
    "\n",
    "train_data = tf.data.Dataset.from_tensor_slices((data_train, label_train))\n",
    "train_data = train_data.cache().shuffle(BUFFER_SIZE).batch(BATCH_SIZE)\n",
    "\n",
    "val_data = tf.data.Dataset.from_tensor_slices((data_test, label_test))\n",
    "val_data = val_data.batch(BATCH_SIZE)"
   ]
  },
  {
   "cell_type": "markdown",
   "id": "49188b05",
   "metadata": {},
   "source": [
    "# MLP"
   ]
  },
  {
   "cell_type": "code",
   "execution_count": 44,
   "id": "a967a1dc",
   "metadata": {
    "scrolled": true
   },
   "outputs": [
    {
     "name": "stdout",
     "output_type": "stream",
     "text": [
      "Epoch 1/20\n",
      "2931/2931 [==============================] - 8s 2ms/step - loss: 0.0398 - binary_accuracy: 0.9875 - val_loss: 0.0090 - val_binary_accuracy: 0.9957\n",
      "Epoch 2/20\n",
      "2931/2931 [==============================] - 5s 2ms/step - loss: 0.0111 - binary_accuracy: 0.9969 - val_loss: 0.0061 - val_binary_accuracy: 0.9981\n",
      "Epoch 3/20\n",
      "2931/2931 [==============================] - 5s 2ms/step - loss: 0.0072 - binary_accuracy: 0.9981 - val_loss: 0.0051 - val_binary_accuracy: 0.9978\n",
      "Epoch 4/20\n",
      "2931/2931 [==============================] - 5s 2ms/step - loss: 0.0061 - binary_accuracy: 0.9984 - val_loss: 0.0022 - val_binary_accuracy: 0.9995\n",
      "Epoch 5/20\n",
      "2931/2931 [==============================] - 5s 2ms/step - loss: 0.0043 - binary_accuracy: 0.9987 - val_loss: 0.0016 - val_binary_accuracy: 0.9995\n",
      "Epoch 6/20\n",
      "2931/2931 [==============================] - 5s 2ms/step - loss: 0.0037 - binary_accuracy: 0.9989 - val_loss: 0.0011 - val_binary_accuracy: 0.9998\n",
      "Epoch 7/20\n",
      "2931/2931 [==============================] - 5s 2ms/step - loss: 0.0028 - binary_accuracy: 0.9991 - val_loss: 6.8005e-04 - val_binary_accuracy: 1.0000\n",
      "Epoch 8/20\n",
      "2931/2931 [==============================] - 5s 2ms/step - loss: 0.0024 - binary_accuracy: 0.9993 - val_loss: 4.2927e-04 - val_binary_accuracy: 0.9999\n",
      "Epoch 9/20\n",
      "2931/2931 [==============================] - 5s 2ms/step - loss: 0.0015 - binary_accuracy: 0.9995 - val_loss: 0.0011 - val_binary_accuracy: 0.9996\n",
      "Epoch 10/20\n",
      "2931/2931 [==============================] - 5s 2ms/step - loss: 9.2648e-04 - binary_accuracy: 0.9997 - val_loss: 2.1392e-04 - val_binary_accuracy: 1.0000\n",
      "Epoch 11/20\n",
      "2931/2931 [==============================] - 5s 2ms/step - loss: 8.5647e-04 - binary_accuracy: 0.9997 - val_loss: 2.2690e-04 - val_binary_accuracy: 1.0000\n",
      "Epoch 12/20\n",
      "2931/2931 [==============================] - 5s 2ms/step - loss: 5.8769e-04 - binary_accuracy: 0.9998 - val_loss: 5.6892e-04 - val_binary_accuracy: 0.9998\n",
      "Epoch 13/20\n",
      "2931/2931 [==============================] - 5s 2ms/step - loss: 3.9407e-04 - binary_accuracy: 0.9999 - val_loss: 6.4409e-05 - val_binary_accuracy: 1.0000\n",
      "Epoch 14/20\n",
      "2931/2931 [==============================] - 5s 2ms/step - loss: 4.4026e-04 - binary_accuracy: 0.9999 - val_loss: 5.2277e-05 - val_binary_accuracy: 1.0000\n",
      "Epoch 15/20\n",
      "2931/2931 [==============================] - 5s 2ms/step - loss: 3.0670e-04 - binary_accuracy: 0.9999 - val_loss: 4.1124e-05 - val_binary_accuracy: 1.0000\n",
      "Epoch 16/20\n",
      "2931/2931 [==============================] - 5s 2ms/step - loss: 2.0765e-04 - binary_accuracy: 0.9999 - val_loss: 4.6582e-05 - val_binary_accuracy: 1.0000\n",
      "Epoch 17/20\n",
      "2931/2931 [==============================] - 5s 2ms/step - loss: 2.1067e-04 - binary_accuracy: 0.9999 - val_loss: 2.2979e-05 - val_binary_accuracy: 1.0000\n",
      "Epoch 18/20\n",
      "2931/2931 [==============================] - 5s 2ms/step - loss: 2.1447e-04 - binary_accuracy: 0.9999 - val_loss: 5.1434e-04 - val_binary_accuracy: 0.9999\n",
      "Epoch 19/20\n",
      "2931/2931 [==============================] - 5s 2ms/step - loss: 2.3779e-04 - binary_accuracy: 0.9999 - val_loss: 4.6357e-05 - val_binary_accuracy: 1.0000\n",
      "Epoch 20/20\n",
      "2931/2931 [==============================] - 5s 2ms/step - loss: 1.2995e-04 - binary_accuracy: 1.0000 - val_loss: 1.8693e-04 - val_binary_accuracy: 0.9999\n"
     ]
    }
   ],
   "source": [
    "import tensorflow as tf\n",
    "from tensorflow.keras import layers, optimizers, losses, metrics\n",
    "\n",
    "# Define the model\n",
    "model = tf.keras.models.Sequential([\n",
    "    \n",
    "    layers.Flatten(input_shape=data_train.shape[-2:]),\n",
    "    layers.Dense(16, activation='relu'),\n",
    "    layers.Dense(16, activation='relu'),\n",
    "    layers.Dense(1, activation='sigmoid')\n",
    "])\n",
    "\n",
    "# Compile the model\n",
    "model.compile(optimizer=optimizers.RMSprop(learning_rate=0.001),\n",
    "              loss=losses.binary_crossentropy,\n",
    "              metrics=[metrics.binary_accuracy])\n",
    "\n",
    "# Train the model\n",
    "history = model.fit(train_data,\n",
    "                    epochs=20,\n",
    "                    batch_size=BATCH_SIZE,\n",
    "                    validation_data=val_data,\n",
    "                    verbose=1)\n",
    "\n",
    "# # Generate a single prediction\n",
    "# sample = data_test[0]  # Example: Take the first sample from the test data\n",
    "# sample = sample.reshape(1, *sample.shape)  # Reshape the sample to match the model input shape\n",
    "# prediction = model.predict(sample)\n",
    "\n",
    "# print(prediction)"
   ]
  },
  {
   "cell_type": "code",
   "execution_count": 45,
   "id": "80807078",
   "metadata": {},
   "outputs": [
    {
     "data": {
      "image/png": "[encoded data removed]",
      "text/plain": [
       "<Figure size 640x480 with 1 Axes>"
      ]
     },
     "metadata": {},
     "output_type": "display_data"
    }
   ],
   "source": [
    "import matplotlib.pyplot as plt\n",
    "\n",
    "history_dict = history.history\n",
    "loss = history_dict['loss']\n",
    "val_loss = history_dict['val_loss']\n",
    "\n",
    "epochs = range(1, len(loss) + 1)\n",
    "\n",
    "plt.plot(epochs, loss, 'bo', label='Training loss')  # ‘bo’는 파란색 점을 의미합니다.\n",
    "plt.plot(epochs, val_loss, 'ro', label='Validation loss') # ‘b’는 파란색 실선을 의미합니다.\n",
    "plt.title('Training and validation loss')\n",
    "plt.xlabel('Epochs')\n",
    "plt.ylabel('Loss')\n",
    "plt.legend()\n",
    "\n",
    "plt.show()"
   ]
  },
  {
   "cell_type": "code",
   "execution_count": 46,
   "id": "4731a8ca",
   "metadata": {},
   "outputs": [
    {
     "name": "stdout",
     "output_type": "stream",
     "text": [
      "2015/2015 [==============================] - 3s 1ms/step\n",
      "Confusion Matrix:\n",
      "[[56170     0]\n",
      " [    8  8284]]\n",
      "Classification Report:\n",
      "              precision    recall  f1-score   support\n",
      "\n",
      "         0.0       1.00      1.00      1.00     56170\n",
      "         1.0       1.00      1.00      1.00      8292\n",
      "\n",
      "    accuracy                           1.00     64462\n",
      "   macro avg       1.00      1.00      1.00     64462\n",
      "weighted avg       1.00      1.00      1.00     64462\n",
      "\n"
     ]
    }
   ],
   "source": [
    "import numpy as np\n",
    "from sklearn.metrics import confusion_matrix, classification_report\n",
    "predictions= np.round(model.predict(data_test)).flatten()\n",
    "label_test = label_test\n",
    "confusion = confusion_matrix(label_test, predictions)\n",
    "print(\"Confusion Matrix:\")\n",
    "print(confusion)\n",
    "\n",
    "# Generate classification report\n",
    "classification = classification_report(label_test, predictions)\n",
    "print(\"Classification Report:\")\n",
    "print(classification)"
   ]
  },
  {
   "cell_type": "code",
   "execution_count": 98,
   "id": "b38560dc",
   "metadata": {},
   "outputs": [
    {
     "name": "stdout",
     "output_type": "stream",
     "text": [
      "8058/8058 [==============================] - 7s 923us/step\n",
      "Confusion Matrix:\n",
      "[[253572      0]\n",
      " [  4273      0]]\n",
      "Classification Report:\n",
      "              precision    recall  f1-score   support\n",
      "\n",
      "         0.0       0.98      1.00      0.99    253572\n",
      "         1.0       0.00      0.00      0.00      4273\n",
      "\n",
      "    accuracy                           0.98    257845\n",
      "   macro avg       0.49      0.50      0.50    257845\n",
      "weighted avg       0.97      0.98      0.98    257845\n",
      "\n"
     ]
    }
   ],
   "source": [
    "predictions= np.round(model.predict(data_train)).flatten()\n",
    "label_test = label_test\n",
    "confusion = confusion_matrix(label_train, predictions)\n",
    "print(\"Confusion Matrix:\")\n",
    "print(confusion)\n",
    "\n",
    "# Generate classification report\n",
    "classification = classification_report(label_train, predictions)\n",
    "print(\"Classification Report:\")\n",
    "print(classification)"
   ]
  },
  {
   "cell_type": "markdown",
   "id": "499093f1",
   "metadata": {},
   "source": [
    "# LSTM"
   ]
  },
  {
   "cell_type": "code",
   "execution_count": 47,
   "id": "476d1943",
   "metadata": {
    "id": "476d1943",
    "outputId": "ed3fc1ce-2d2f-4e12-d3b9-420477733382"
   },
   "outputs": [
    {
     "ename": "ValueError",
     "evalue": "Input 0 of layer \"lstm\" is incompatible with the layer: expected ndim=3, found ndim=2. Full shape received: (None, 320)",
     "output_type": "error",
     "traceback": [
      "\u001b[1;31m---------------------------------------------------------------------------\u001b[0m",
      "\u001b[1;31mValueError\u001b[0m                                Traceback (most recent call last)",
      "\u001b[1;32mC:\\Users\\Public\\Documents\\ESTsoft\\CreatorTemp\\ipykernel_18292\\2204863358.py\u001b[0m in \u001b[0;36m<module>\u001b[1;34m\u001b[0m\n\u001b[0;32m      6\u001b[0m \u001b[1;33m\u001b[0m\u001b[0m\n\u001b[0;32m      7\u001b[0m \u001b[1;31m# Define the model\u001b[0m\u001b[1;33m\u001b[0m\u001b[1;33m\u001b[0m\u001b[0m\n\u001b[1;32m----> 8\u001b[1;33m model = tf.keras.models.Sequential([\n\u001b[0m\u001b[0;32m      9\u001b[0m \u001b[1;33m\u001b[0m\u001b[0m\n\u001b[0;32m     10\u001b[0m     \u001b[0mlayers\u001b[0m\u001b[1;33m.\u001b[0m\u001b[0mFlatten\u001b[0m\u001b[1;33m(\u001b[0m\u001b[0minput_shape\u001b[0m\u001b[1;33m=\u001b[0m\u001b[0mdata_train\u001b[0m\u001b[1;33m.\u001b[0m\u001b[0mshape\u001b[0m\u001b[1;33m[\u001b[0m\u001b[1;33m-\u001b[0m\u001b[1;36m2\u001b[0m\u001b[1;33m:\u001b[0m\u001b[1;33m]\u001b[0m\u001b[1;33m)\u001b[0m\u001b[1;33m,\u001b[0m\u001b[1;33m\u001b[0m\u001b[1;33m\u001b[0m\u001b[0m\n",
      "\u001b[1;32m~\\anaconda3\\lib\\site-packages\\tensorflow\\python\\trackable\\base.py\u001b[0m in \u001b[0;36m_method_wrapper\u001b[1;34m(self, *args, **kwargs)\u001b[0m\n\u001b[0;32m    203\u001b[0m     \u001b[0mself\u001b[0m\u001b[1;33m.\u001b[0m\u001b[0m_self_setattr_tracking\u001b[0m \u001b[1;33m=\u001b[0m \u001b[1;32mFalse\u001b[0m  \u001b[1;31m# pylint: disable=protected-access\u001b[0m\u001b[1;33m\u001b[0m\u001b[1;33m\u001b[0m\u001b[0m\n\u001b[0;32m    204\u001b[0m     \u001b[1;32mtry\u001b[0m\u001b[1;33m:\u001b[0m\u001b[1;33m\u001b[0m\u001b[1;33m\u001b[0m\u001b[0m\n\u001b[1;32m--> 205\u001b[1;33m       \u001b[0mresult\u001b[0m \u001b[1;33m=\u001b[0m \u001b[0mmethod\u001b[0m\u001b[1;33m(\u001b[0m\u001b[0mself\u001b[0m\u001b[1;33m,\u001b[0m \u001b[1;33m*\u001b[0m\u001b[0margs\u001b[0m\u001b[1;33m,\u001b[0m \u001b[1;33m**\u001b[0m\u001b[0mkwargs\u001b[0m\u001b[1;33m)\u001b[0m\u001b[1;33m\u001b[0m\u001b[1;33m\u001b[0m\u001b[0m\n\u001b[0m\u001b[0;32m    206\u001b[0m     \u001b[1;32mfinally\u001b[0m\u001b[1;33m:\u001b[0m\u001b[1;33m\u001b[0m\u001b[1;33m\u001b[0m\u001b[0m\n\u001b[0;32m    207\u001b[0m       \u001b[0mself\u001b[0m\u001b[1;33m.\u001b[0m\u001b[0m_self_setattr_tracking\u001b[0m \u001b[1;33m=\u001b[0m \u001b[0mprevious_value\u001b[0m  \u001b[1;31m# pylint: disable=protected-access\u001b[0m\u001b[1;33m\u001b[0m\u001b[1;33m\u001b[0m\u001b[0m\n",
      "\u001b[1;32m~\\anaconda3\\lib\\site-packages\\keras\\utils\\traceback_utils.py\u001b[0m in \u001b[0;36merror_handler\u001b[1;34m(*args, **kwargs)\u001b[0m\n\u001b[0;32m     68\u001b[0m             \u001b[1;31m# To get the full stack trace, call:\u001b[0m\u001b[1;33m\u001b[0m\u001b[1;33m\u001b[0m\u001b[0m\n\u001b[0;32m     69\u001b[0m             \u001b[1;31m# `tf.debugging.disable_traceback_filtering()`\u001b[0m\u001b[1;33m\u001b[0m\u001b[1;33m\u001b[0m\u001b[0m\n\u001b[1;32m---> 70\u001b[1;33m             \u001b[1;32mraise\u001b[0m \u001b[0me\u001b[0m\u001b[1;33m.\u001b[0m\u001b[0mwith_traceback\u001b[0m\u001b[1;33m(\u001b[0m\u001b[0mfiltered_tb\u001b[0m\u001b[1;33m)\u001b[0m \u001b[1;32mfrom\u001b[0m \u001b[1;32mNone\u001b[0m\u001b[1;33m\u001b[0m\u001b[1;33m\u001b[0m\u001b[0m\n\u001b[0m\u001b[0;32m     71\u001b[0m         \u001b[1;32mfinally\u001b[0m\u001b[1;33m:\u001b[0m\u001b[1;33m\u001b[0m\u001b[1;33m\u001b[0m\u001b[0m\n\u001b[0;32m     72\u001b[0m             \u001b[1;32mdel\u001b[0m \u001b[0mfiltered_tb\u001b[0m\u001b[1;33m\u001b[0m\u001b[1;33m\u001b[0m\u001b[0m\n",
      "\u001b[1;32m~\\anaconda3\\lib\\site-packages\\keras\\engine\\input_spec.py\u001b[0m in \u001b[0;36massert_input_compatibility\u001b[1;34m(input_spec, inputs, layer_name)\u001b[0m\n\u001b[0;32m    230\u001b[0m             \u001b[0mndim\u001b[0m \u001b[1;33m=\u001b[0m \u001b[0mshape\u001b[0m\u001b[1;33m.\u001b[0m\u001b[0mrank\u001b[0m\u001b[1;33m\u001b[0m\u001b[1;33m\u001b[0m\u001b[0m\n\u001b[0;32m    231\u001b[0m             \u001b[1;32mif\u001b[0m \u001b[0mndim\u001b[0m \u001b[1;33m!=\u001b[0m \u001b[0mspec\u001b[0m\u001b[1;33m.\u001b[0m\u001b[0mndim\u001b[0m\u001b[1;33m:\u001b[0m\u001b[1;33m\u001b[0m\u001b[1;33m\u001b[0m\u001b[0m\n\u001b[1;32m--> 232\u001b[1;33m                 raise ValueError(\n\u001b[0m\u001b[0;32m    233\u001b[0m                     \u001b[1;34mf'Input {input_index} of layer \"{layer_name}\" '\u001b[0m\u001b[1;33m\u001b[0m\u001b[1;33m\u001b[0m\u001b[0m\n\u001b[0;32m    234\u001b[0m                     \u001b[1;34m\"is incompatible with the layer: \"\u001b[0m\u001b[1;33m\u001b[0m\u001b[1;33m\u001b[0m\u001b[0m\n",
      "\u001b[1;31mValueError\u001b[0m: Input 0 of layer \"lstm\" is incompatible with the layer: expected ndim=3, found ndim=2. Full shape received: (None, 320)"
     ]
    }
   ],
   "source": [
    "import tensorflow as tf\n",
    "from tensorflow.keras import layers, optimizers, losses, metrics\n",
    "\n",
    "import tensorflow as tf\n",
    "from tensorflow.keras import layers, optimizers, losses, metrics\n",
    "\n",
    "# Define the model\n",
    "model = tf.keras.models.Sequential([\n",
    "    \n",
    "    layers.Flatten(input_shape=data_train.shape[-2:]),\n",
    "    layers.LSTM(16),\n",
    "    layers.Dense(16, activation='relu'),\n",
    "    layers.Dense(1, activation='sigmoid')\n",
    "])\n",
    "\n",
    "# Compile the model\n",
    "model.compile(optimizer=optimizers.RMSprop(learning_rate=0.001),\n",
    "              loss=losses.binary_crossentropy,\n",
    "              metrics=[metrics.binary_accuracy])\n",
    "\n",
    "# Train the model\n",
    "history = model.fit(train_data,\n",
    "                    epochs=20,\n",
    "                    batch_size=BATCH_SIZE,\n",
    "                    validation_data=val_data,\n",
    "                    verbose=1)"
   ]
  },
  {
   "cell_type": "code",
   "execution_count": 49,
   "id": "3ec17ceb",
   "metadata": {
    "id": "3ec17ceb",
    "outputId": "5f6ba46f-f368-449b-a29b-42d7f047deef"
   },
   "outputs": [
    {
     "data": {
      "image/png": "[encoded data removed]",
      "text/plain": [
       "<Figure size 640x480 with 1 Axes>"
      ]
     },
     "metadata": {},
     "output_type": "display_data"
    }
   ],
   "source": [
    "import matplotlib.pyplot as plt\n",
    "\n",
    "history_dict = history.history\n",
    "loss = history_dict['loss']\n",
    "val_loss = history_dict['val_loss']\n",
    "\n",
    "epochs = range(1, len(loss) + 1)\n",
    "\n",
    "plt.plot(epochs, loss, 'bo', label='Training loss')  # ‘bo’는 파란색 점을 의미합니다.\n",
    "plt.plot(epochs, val_loss, 'ro', label='Validation loss') # ‘b’는 파란색 실선을 의미합니다.\n",
    "plt.title('Training and validation loss')\n",
    "plt.xlabel('Epochs')\n",
    "plt.ylabel('Loss')\n",
    "plt.legend()\n",
    "\n",
    "plt.show()"
   ]
  },
  {
   "cell_type": "code",
   "execution_count": null,
   "id": "e26d8f8f",
   "metadata": {},
   "outputs": [],
   "source": [
    "import matplotlib.pyplot as plt\n",
    "\n",
    "history_dict = history.history\n",
    "loss = history_dict['loss']\n",
    "val_loss = history_dict['val_loss']\n",
    "\n",
    "epochs = range(1, len(loss) + 1)\n",
    "\n",
    "plt.plot(epochs, loss, 'bo', label='Training loss')  # ‘bo’는 파란색 점을 의미합니다.\n",
    "plt.plot(epochs, val_loss, 'ro', label='Validation loss') # ‘b’는 파란색 실선을 의미합니다.\n",
    "plt.title('Training and validation loss')\n",
    "plt.xlabel('Epochs')\n",
    "plt.ylabel('Loss')\n",
    "plt.legend()\n",
    "\n",
    "plt.show()"
   ]
  },
  {
   "cell_type": "code",
   "execution_count": 50,
   "id": "210757b6",
   "metadata": {},
   "outputs": [
    {
     "name": "stdout",
     "output_type": "stream",
     "text": [
      "2049/2049 [==============================] - 4s 2ms/step\n",
      "Confusion Matrix:\n",
      "[[65562]]\n",
      "Classification Report:\n",
      "              precision    recall  f1-score   support\n",
      "\n",
      "         0.0       1.00      1.00      1.00     65562\n",
      "\n",
      "    accuracy                           1.00     65562\n",
      "   macro avg       1.00      1.00      1.00     65562\n",
      "weighted avg       1.00      1.00      1.00     65562\n",
      "\n"
     ]
    }
   ],
   "source": [
    "import numpy as np\n",
    "from sklearn.metrics import confusion_matrix, classification_report\n",
    "\n",
    "predictions =  np.round(model.predict(data_test))\n",
    "\n",
    "confusion = confusion_matrix(label_test, predictions)\n",
    "print(\"Confusion Matrix:\")\n",
    "print(confusion)\n",
    "\n",
    "# Generate classification report\n",
    "classification = classification_report(label_test, predictions)\n",
    "print(\"Classification Report:\")\n",
    "print(classification)"
   ]
  },
  {
   "cell_type": "code",
   "execution_count": 51,
   "id": "a3f92f04",
   "metadata": {},
   "outputs": [
    {
     "name": "stdout",
     "output_type": "stream",
     "text": [
      "2049/2049 [==============================] - 4s 2ms/step\n"
     ]
    }
   ],
   "source": [
    "predictions =  np.round(model.predict(data_test))"
   ]
  },
  {
   "cell_type": "code",
   "execution_count": 52,
   "id": "f1f36265",
   "metadata": {},
   "outputs": [
    {
     "data": {
      "text/plain": [
       "(65562, 1)"
      ]
     },
     "execution_count": 52,
     "metadata": {},
     "output_type": "execute_result"
    }
   ],
   "source": [
    "predictions.shape"
   ]
  }
 ],
 "metadata": {
  "colab": {
   "provenance": []
  },
  "kernelspec": {
   "display_name": "Python 3 (ipykernel)",
   "language": "python",
   "name": "python3"
  },
  "language_info": {
   "codemirror_mode": {
    "name": "ipython",
    "version": 3
   },
   "file_extension": ".py",
   "mimetype": "text/x-python",
   "name": "python",
   "nbconvert_exporter": "python",
   "pygments_lexer": "ipython3",
   "version": "3.9.13"
  },
  "toc": {
   "base_numbering": 1,
   "nav_menu": {},
   "number_sections": true,
   "sideBar": true,
   "skip_h1_title": false,
   "title_cell": "Table of Contents",
   "title_sidebar": "Contents",
   "toc_cell": false,
   "toc_position": {
    "height": "541.594px",
    "left": "28px",
    "top": "135px",
    "width": "384px"
   },
   "toc_section_display": true,
   "toc_window_display": false
  }
 },
 "nbformat": 4,
 "nbformat_minor": 5
}
